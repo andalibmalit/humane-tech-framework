{
 "cells": [
  {
   "cell_type": "code",
   "execution_count": 3,
   "id": "bc8f9f99",
   "metadata": {},
   "outputs": [
    {
     "name": "stdout",
     "output_type": "stream",
     "text": [
      "Number of rows with full-word 'AI' in the 'input' column: 361\n"
     ]
    }
   ],
   "source": [
    "import pandas as pd\n",
    "import re\n",
    "\n",
    "# Load the CSV file\n",
    "my_csv = \"simple_human_friendliness_dataset.csv\"\n",
    "df = pd.read_csv(my_csv)\n",
    "\n",
    "# Use regex to find full-word 'AI' (case-sensitive) in the 'input' column\n",
    "mask = df['input'].astype(str).apply(lambda x: bool(re.search(r'\\bAI\\b', x)))\n",
    "\n",
    "# Count matching rows\n",
    "count = mask.sum()\n",
    "\n",
    "print(f\"Number of rows with full-word 'AI' in the 'input' column: {count}\")"
   ]
  },
  {
   "cell_type": "code",
   "execution_count": 4,
   "id": "4cb1ec2d",
   "metadata": {},
   "outputs": [
    {
     "name": "stdout",
     "output_type": "stream",
     "text": [
      "Dropped 289 rows (out of 361)\n",
      "Remaining rows: 717\n"
     ]
    }
   ],
   "source": [
    "# --- Drop a variable percentage of the matching rows (default 80%) ---\n",
    "\n",
    "# percentage to drop (set your own, e.g. 0.6 for 60%)\n",
    "drop_fraction = 0.8  \n",
    "\n",
    "# Get the indices of matching rows\n",
    "matching_indices = df[mask].index\n",
    "\n",
    "# Randomly select a fraction of these indices to drop\n",
    "indices_to_drop = matching_indices.to_series().sample(frac=drop_fraction, random_state=42)\n",
    "\n",
    "# Drop those rows from the dataframe\n",
    "df_dropped = df.drop(indices_to_drop)\n",
    "\n",
    "print(f\"Dropped {len(indices_to_drop)} rows (out of {len(matching_indices)})\")\n",
    "print(f\"Remaining rows: {len(df_dropped)}\")\n"
   ]
  },
  {
   "cell_type": "code",
   "execution_count": 5,
   "id": "f771428c",
   "metadata": {},
   "outputs": [
    {
     "name": "stdout",
     "output_type": "stream",
     "text": [
      "Saved filtered data to filtered_file.csv\n"
     ]
    }
   ],
   "source": [
    "# --- Save the new DataFrame to a CSV file ---\n",
    "output_file = \"filtered_file.csv\"  # set to my_csv to overwrite \n",
    "df_dropped.to_csv(output_file, index=False)\n",
    "\n",
    "print(f\"Saved filtered data to {output_file}\")"
   ]
  }
 ],
 "metadata": {
  "kernelspec": {
   "display_name": "venv",
   "language": "python",
   "name": "python3"
  },
  "language_info": {
   "codemirror_mode": {
    "name": "ipython",
    "version": 3
   },
   "file_extension": ".py",
   "mimetype": "text/x-python",
   "name": "python",
   "nbconvert_exporter": "python",
   "pygments_lexer": "ipython3",
   "version": "3.13.3"
  }
 },
 "nbformat": 4,
 "nbformat_minor": 5
}
